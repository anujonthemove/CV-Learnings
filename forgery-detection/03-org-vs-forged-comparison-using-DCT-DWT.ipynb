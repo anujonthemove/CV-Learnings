{
 "cells": [
  {
   "cell_type": "code",
   "execution_count": 2,
   "metadata": {},
   "outputs": [
    {
     "name": "stdout",
     "output_type": "stream",
     "text": [
      "The image appears to be original.\n"
     ]
    }
   ],
   "source": [
    "import cv2\n",
    "import numpy as np\n",
    "import pywt\n",
    "\n",
    "# Load and preprocess the images\n",
    "def preprocess_image(image_path, target_size=(256, 256)):\n",
    "    image = cv2.imread(image_path, cv2.IMREAD_GRAYSCALE)\n",
    "    image = cv2.resize(image, target_size)\n",
    "    return image\n",
    "\n",
    "# Calculate DWT and DCT coefficients\n",
    "def extract_features(image):\n",
    "    # DWT (Discrete Wavelet Transform)\n",
    "    coeffs = pywt.wavedec2(image, 'db1', level=1)\n",
    "    \n",
    "    # DCT (Discrete Cosine Transform)\n",
    "    dct = cv2.dct(np.float32(image))\n",
    "    \n",
    "    return coeffs, dct\n",
    "\n",
    "# Calculate a similarity metric (e.g., Mean Squared Error) between coefficients\n",
    "def calculate_similarity(original_coeffs, forged_coeffs, original_dct, forged_dct):\n",
    "    mse_coeffs = np.mean((original_coeffs[0] - forged_coeffs[0]) ** 2)\n",
    "    mse_dct = np.mean((original_dct - forged_dct) ** 2)\n",
    "    \n",
    "    return mse_coeffs, mse_dct\n",
    "\n",
    "# Set a threshold for the similarity metric\n",
    "threshold = 0.1\n",
    "\n",
    "# Paths to the original and potentially forged images\n",
    "original_image_path = \"/home/acer/Downloads/Sample-Veggi-Bill.jpg\"\n",
    "forged_image_path = \"/home/acer/Downloads/Sample-Veggi-Bill.jpg\"\n",
    "\n",
    "# Load and preprocess the images\n",
    "original_image = preprocess_image(original_image_path)\n",
    "forged_image = preprocess_image(forged_image_path)\n",
    "\n",
    "# Calculate features for both images\n",
    "original_coeffs, original_dct = extract_features(original_image)\n",
    "forged_coeffs, forged_dct = extract_features(forged_image)\n",
    "\n",
    "# Calculate similarity between the features\n",
    "mse_coeffs, mse_dct = calculate_similarity(original_coeffs, forged_coeffs, original_dct, forged_dct)\n",
    "\n",
    "# Make a decision based on the threshold\n",
    "if mse_coeffs > threshold or mse_dct > threshold:\n",
    "    print(\"The image is likely forged.\")\n",
    "else:\n",
    "    print(\"The image appears to be original.\")\n"
   ]
  }
 ],
 "metadata": {
  "kernelspec": {
   "display_name": "pytorch",
   "language": "python",
   "name": "python3"
  },
  "language_info": {
   "codemirror_mode": {
    "name": "ipython",
    "version": 3
   },
   "file_extension": ".py",
   "mimetype": "text/x-python",
   "name": "python",
   "nbconvert_exporter": "python",
   "pygments_lexer": "ipython3",
   "version": "3.10.12"
  }
 },
 "nbformat": 4,
 "nbformat_minor": 2
}
