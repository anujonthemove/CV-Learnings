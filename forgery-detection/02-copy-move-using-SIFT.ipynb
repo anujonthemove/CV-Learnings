{
 "cells": [
  {
   "cell_type": "code",
   "execution_count": 1,
   "metadata": {},
   "outputs": [],
   "source": [
    "import cv2\n",
    "import numpy as np\n",
    "\n",
    "def copy_move_detection(image_path):\n",
    "    # Load the image\n",
    "    image = cv2.imread(image_path)\n",
    "\n",
    "    # Convert the image to grayscale\n",
    "    gray = cv2.cvtColor(image, cv2.COLOR_BGR2GRAY)\n",
    "\n",
    "    # Use OpenCV's feature-based matching (SIFT or ORB) to find key points and descriptors\n",
    "    # You may need to install opencv-contrib-python to use SIFT\n",
    "    # See https://pypi.org/project/opencv-contrib-python/\n",
    "    sift = cv2.SIFT_create()\n",
    "    keypoints, descriptors = sift.detectAndCompute(gray, None)\n",
    "\n",
    "    # Create a brute-force matcher\n",
    "    bf = cv2.BFMatcher()\n",
    "\n",
    "    # Match descriptors using K-Nearest Neighbor (KNN)\n",
    "    matches = bf.knnMatch(descriptors, descriptors, k=2)\n",
    "\n",
    "    # Ratio test to find good matches\n",
    "    good_matches = []\n",
    "    for m, n in matches:\n",
    "        if m.distance < 0.75 * n.distance:\n",
    "            good_matches.append(m)\n",
    "\n",
    "    # Create a list of detected points\n",
    "    detected_points = []\n",
    "\n",
    "    for match in good_matches:\n",
    "        detected_points.append(keypoints[match.queryIdx].pt)\n",
    "\n",
    "    # Draw rectangles around the copied regions\n",
    "    for point in detected_points:\n",
    "        x, y = point\n",
    "        cv2.rectangle(image, (int(x - 5), int(y - 5)), (int(x + 5), int(y + 5)), (0, 0, 255), 2)\n",
    "\n",
    "    # Save or display the image with rectangles drawn around the copied regions\n",
    "    cv2.imwrite(\"output_image.jpg\", image)\n",
    "    cv2.imshow(\"Detected Forgery\", image)\n",
    "    cv2.waitKey(0)\n",
    "    cv2.destroyAllWindows()"
   ]
  },
  {
   "cell_type": "code",
   "execution_count": 2,
   "metadata": {},
   "outputs": [],
   "source": [
    "if __name__ == '__main__':\n",
    "    image_path = '/home/acer/Downloads/Ratnadeep-Bill-Modified.jpg'  # Replace with the path to your image\n",
    "    copy_move_detection(image_path)"
   ]
  },
  {
   "cell_type": "code",
   "execution_count": null,
   "metadata": {},
   "outputs": [],
   "source": []
  }
 ],
 "metadata": {
  "kernelspec": {
   "display_name": "pytorch",
   "language": "python",
   "name": "python3"
  },
  "language_info": {
   "codemirror_mode": {
    "name": "ipython",
    "version": 3
   },
   "file_extension": ".py",
   "mimetype": "text/x-python",
   "name": "python",
   "nbconvert_exporter": "python",
   "pygments_lexer": "ipython3",
   "version": "3.10.12"
  }
 },
 "nbformat": 4,
 "nbformat_minor": 2
}
